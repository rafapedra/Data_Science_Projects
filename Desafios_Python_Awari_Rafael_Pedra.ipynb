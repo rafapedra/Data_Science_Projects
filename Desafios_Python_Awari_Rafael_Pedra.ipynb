{
  "nbformat": 4,
  "nbformat_minor": 0,
  "metadata": {
    "colab": {
      "name": "Desafios Python Awari - Rafael Pedra",
      "provenance": [],
      "authorship_tag": "ABX9TyOjwmIeWxp70mb33+jg0/Fd",
      "include_colab_link": true
    },
    "kernelspec": {
      "name": "python3",
      "display_name": "Python 3"
    },
    "language_info": {
      "name": "python"
    }
  },
  "cells": [
    {
      "cell_type": "markdown",
      "metadata": {
        "id": "view-in-github",
        "colab_type": "text"
      },
      "source": [
        "<a href=\"https://colab.research.google.com/github/rafapedra/Data_Science_Projects/blob/master/Desafios_Python_Awari_Rafael_Pedra.ipynb\" target=\"_parent\"><img src=\"https://colab.research.google.com/assets/colab-badge.svg\" alt=\"Open In Colab\"/></a>"
      ]
    },
    {
      "cell_type": "markdown",
      "source": [
        "Desafios Awari Python\n"
      ],
      "metadata": {
        "id": "OLsloIn1FSWM"
      }
    },
    {
      "cell_type": "markdown",
      "source": [
        "1) Escreva um programa em Python para contabilizar a quantidade de ocorrências de cada palavra."
      ],
      "metadata": {
        "id": "K7PMlOMOFYTc"
      }
    },
    {
      "cell_type": "code",
      "source": [
        "palavras = [ 'red', 'green', 'black', 'pink', 'black', 'white', 'black', 'eyes', 'white', 'black', 'orange', 'pink', 'pink', 'red', 'red', 'white', 'orange', 'white', \"black\", 'pink', 'green', 'green', 'pink', 'green', 'pink',\n",
        "   'white', 'orange', \"orange\", 'red'\n",
        "]"
      ],
      "metadata": {
        "id": "Gv4eSYbUFh1k"
      },
      "execution_count": 1,
      "outputs": []
    },
    {
      "cell_type": "code",
      "source": [
        "contagem = {}\n",
        "for cadapalavra in palavras:\n",
        "  total = palavras.count(cadapalavra)\n",
        "  contagem[f'{cadapalavra}'] = total\n",
        "print(contagem)"
      ],
      "metadata": {
        "colab": {
          "base_uri": "https://localhost:8080/"
        },
        "id": "LdKuOUb-Fsek",
        "outputId": "89256363-9c1b-4744-e46a-54ee903d1d62"
      },
      "execution_count": 2,
      "outputs": [
        {
          "output_type": "stream",
          "name": "stdout",
          "text": [
            "{'red': 4, 'green': 4, 'black': 5, 'pink': 6, 'white': 5, 'eyes': 1, 'orange': 4}\n"
          ]
        }
      ]
    },
    {
      "cell_type": "markdown",
      "source": [
        "2) Escreva uma função que receba um número inteiro de horas e converta esse número para segundos."
      ],
      "metadata": {
        "id": "YgvllCF6Huf1"
      }
    },
    {
      "cell_type": "code",
      "source": [
        "def conversor_hora_segundos(numero):\n",
        "  print (numero*3600)"
      ],
      "metadata": {
        "id": "zwXpREebH5SI"
      },
      "execution_count": 3,
      "outputs": []
    },
    {
      "cell_type": "code",
      "source": [
        "conversor_hora_segundos(1)\n",
        "conversor_hora_segundos(10)\n",
        "conversor_hora_segundos(3)"
      ],
      "metadata": {
        "colab": {
          "base_uri": "https://localhost:8080/"
        },
        "id": "osMPx8MzIPTl",
        "outputId": "712ad878-3bd8-4055-edc9-92125b18699c"
      },
      "execution_count": 4,
      "outputs": [
        {
          "output_type": "stream",
          "name": "stdout",
          "text": [
            "3600\n",
            "36000\n",
            "10800\n"
          ]
        }
      ]
    },
    {
      "cell_type": "markdown",
      "source": [
        "3) Escreva uma função que receba uma lista e retorne uma nova lista ordenada e sem valores duplicados."
      ],
      "metadata": {
        "id": "lAn2QtfrIZNF"
      }
    },
    {
      "cell_type": "code",
      "source": [
        "lista = [1,2,3,4,3,30,3,4,5,6,9,3,2,1,2,4,5,15,6,6,3,13,4,45,5]"
      ],
      "metadata": {
        "id": "YUoy_ForIeyF"
      },
      "execution_count": 5,
      "outputs": []
    },
    {
      "cell_type": "code",
      "source": [
        "def listaordenada(entrada):\n",
        "  lista_final = list(set(entrada))\n",
        "  lista_final.sort()\n",
        "  print(lista_final)"
      ],
      "metadata": {
        "id": "2p_xUXx2Ig1O"
      },
      "execution_count": 6,
      "outputs": []
    },
    {
      "cell_type": "code",
      "source": [
        "listaordenada(lista)"
      ],
      "metadata": {
        "colab": {
          "base_uri": "https://localhost:8080/"
        },
        "id": "tq5bJNDEJSc8",
        "outputId": "10f6255e-165d-4919-9acc-0c4a945cf1a8"
      },
      "execution_count": 7,
      "outputs": [
        {
          "output_type": "stream",
          "name": "stdout",
          "text": [
            "[1, 2, 3, 4, 5, 6, 9, 13, 15, 30, 45]\n"
          ]
        }
      ]
    },
    {
      "cell_type": "markdown",
      "source": [
        "Escreva uma função cuja entrada é uma string e a saída é outra string com as palavras em ordem inversa.\n"
      ],
      "metadata": {
        "id": "6AEBbnNHJfiY"
      }
    },
    {
      "cell_type": "code",
      "source": [
        "def inverte_texto(texto):\n",
        "  lista = texto.split()\n",
        "  lista.reverse()\n",
        "  texto_invertido = ' '.join(lista)\n",
        "  print(texto_invertido)"
      ],
      "metadata": {
        "id": "1ua4pEBiJhta"
      },
      "execution_count": 8,
      "outputs": []
    },
    {
      "cell_type": "code",
      "source": [
        "inverte_texto('Eu sou o Mestre Yoda e falo tudo em ordem')"
      ],
      "metadata": {
        "colab": {
          "base_uri": "https://localhost:8080/"
        },
        "id": "w0b_XdK4JvQj",
        "outputId": "43b9c39c-4425-47c2-ef74-613dcfa23a75"
      },
      "execution_count": 9,
      "outputs": [
        {
          "output_type": "stream",
          "name": "stdout",
          "text": [
            "ordem em tudo falo e Yoda Mestre o sou Eu\n"
          ]
        }
      ]
    },
    {
      "cell_type": "markdown",
      "source": [
        "5)Você trabalha em uma loja de sapatos e deve contatar uma série de clientes. Seus números de telefone estão na lista abaixo. No entanto, é possível notar números duplicados na lista dada. Você seria capaz de remover estes duplicados para evitar que clientes sejam contatados mais de uma vez?\n"
      ],
      "metadata": {
        "id": "RQcAzJC9J6Xn"
      }
    },
    {
      "cell_type": "code",
      "source": [
        "numeros_telefone = [\n",
        "'(765) 368-1506',\n",
        "'(285) 608-2448',\n",
        "'(255) 826-9050',\n",
        "'(554) 994-1517',\n",
        "'(285) 608-2448',\n",
        "'(596) 336-5508',\n",
        "'(511) 821-7870',\n",
        "'(410) 665-4447',\n",
        "'(821) 642-8987',\n",
        "'(285) 608-2448',\n",
        "'(311) 799-3883',\n",
        "'(935) 875-2054',\n",
        "'(464) 788-2397',\n",
        "'(765) 368-1506',\n",
        "'(650) 684-1437',\n",
        "'(812) 816-0881',\n",
        "'(285) 608-2448',\n",
        "'(885) 407-1719',\n",
        "'(943) 769-1061',\n",
        "'(596) 336-5508',\n",
        "'(765) 368-1506',\n",
        "'(255) 826-9050',\n",
        "]"
      ],
      "metadata": {
        "id": "J4uTGI_PJ8zs"
      },
      "execution_count": 10,
      "outputs": []
    },
    {
      "cell_type": "markdown",
      "source": [
        "Removendo números duplicados para evitar reclamações de clientes em contato duplicado."
      ],
      "metadata": {
        "id": "tvQ_9WRdKFEy"
      }
    },
    {
      "cell_type": "code",
      "source": [
        "set(numeros_telefone)\n"
      ],
      "metadata": {
        "colab": {
          "base_uri": "https://localhost:8080/"
        },
        "id": "Zg1yJgSrKSDu",
        "outputId": "3b8ef65f-e50b-4460-c9f1-b56c1c9e3529"
      },
      "execution_count": 11,
      "outputs": [
        {
          "output_type": "execute_result",
          "data": {
            "text/plain": [
              "{'(255) 826-9050',\n",
              " '(285) 608-2448',\n",
              " '(311) 799-3883',\n",
              " '(410) 665-4447',\n",
              " '(464) 788-2397',\n",
              " '(511) 821-7870',\n",
              " '(554) 994-1517',\n",
              " '(596) 336-5508',\n",
              " '(650) 684-1437',\n",
              " '(765) 368-1506',\n",
              " '(812) 816-0881',\n",
              " '(821) 642-8987',\n",
              " '(885) 407-1719',\n",
              " '(935) 875-2054',\n",
              " '(943) 769-1061'}"
            ]
          },
          "metadata": {},
          "execution_count": 11
        }
      ]
    },
    {
      "cell_type": "markdown",
      "source": [
        "6)Crie uma função que receba duas listas e retorne uma lista que contenha apenas os elementos comuns entre as listas (sem repetição). A função deve suportar lista de tamanhos diferentes.\n",
        "\n",
        "listas:\n",
        "\n",
        "a = [1, 1, 2, 3, 5, 8, 13, 21, 34, 55, 89]\n",
        "\n",
        "b = [1, 2, 3, 4, 5, 6, 7, 8, 9, 10, 11, 12, 13]"
      ],
      "metadata": {
        "id": "amPRg8NkKZlN"
      }
    },
    {
      "cell_type": "code",
      "source": [
        "#Recebendo as listas\n",
        "\n",
        "a = [1, 1, 2, 3, 5, 8, 13, 21, 34, 55, 89]\n",
        "\n",
        "b = [1, 2, 3, 4, 5, 6, 7, 8, 9, 10, 11, 12, 13]"
      ],
      "metadata": {
        "id": "rfQfapsGKhwf"
      },
      "execution_count": 12,
      "outputs": []
    },
    {
      "cell_type": "code",
      "source": [
        "def duplicados(lista1, lista2):\n",
        "  set_1 = set(lista1)\n",
        "  set_2 = set(lista2)\n",
        "  final = list(set_1.intersection(set_2))\n",
        "  print(final)"
      ],
      "metadata": {
        "id": "fK8WvYYgKs8S"
      },
      "execution_count": 13,
      "outputs": []
    },
    {
      "cell_type": "code",
      "source": [
        "duplicados([1, 1, 2, 3, 5, 8, 13, 21, 34, 55, 89], [1, 2, 3, 4, 5, 6, 7, 8, 9, 10, 11, 12, 13])\n"
      ],
      "metadata": {
        "colab": {
          "base_uri": "https://localhost:8080/"
        },
        "id": "Ryjoxwr2Kzzk",
        "outputId": "29576729-8d72-4daa-a4dc-d8f597de7159"
      },
      "execution_count": 14,
      "outputs": [
        {
          "output_type": "stream",
          "name": "stdout",
          "text": [
            "[1, 2, 3, 5, 8, 13]\n"
          ]
        }
      ]
    },
    {
      "cell_type": "markdown",
      "source": [
        "7)Um professor de universidade tem uma turma com os seguintes números de telefones:"
      ],
      "metadata": {
        "id": "1oeECEalK9fN"
      }
    },
    {
      "cell_type": "code",
      "source": [
        "telefones_alunos = ['(873) 810-8267', '(633) 244-7325', '(300) 303-5462', \n",
        "                    '(938) 300-8890', '(429) 264-7427', '(737) 805-2326', \n",
        "                    '(768) 956-8497', '(941) 225-3869', '(203) 606-9463', \n",
        "                    '(294) 430-7720', '(896) 781-5087', '(397) 845-8267', \n",
        "                    '(788) 717-6858', '(419) 734-4188', '(682) 595-3278', \n",
        "                    '(835) 955-1498', '(296) 415-9944', '(897) 932-2512', \n",
        "                    '(263) 415-3893', '(822) 640-8496', '(640) 427-2597', \n",
        "                    '(856) 338-7094', '(807) 554-4076', '(641) 367-5279', \n",
        "                    '(828) 866-0696', '(727) 376-5749', '(921) 948-2244', \n",
        "                    '(964) 710-9625', '(596) 685-1242', '(403) 343-7705', \n",
        "                    '(227) 389-3685', '(264) 372-7298', '(797) 649-3653', \n",
        "                    '(374) 361-3844', '(618) 490-4228', '(987) 803-5550', \n",
        "                    '(228) 976-9699', '(757) 450-9985', '(491) 666-5367',\n",
        "                    ]"
      ],
      "metadata": {
        "id": "qTOYzg4FLFFl"
      },
      "execution_count": 15,
      "outputs": []
    },
    {
      "cell_type": "markdown",
      "source": [
        "Ele criou um grupo do WhatsApp. No entanto, somente os seguintes números entraram no grupo.\n",
        "\n"
      ],
      "metadata": {
        "id": "I46-u-qYLHwQ"
      }
    },
    {
      "cell_type": "code",
      "source": [
        "entraram_no_grupo = ['(596) 685-1242', '(727) 376-5749', '(987) 803-5550', \n",
        "                     '(633) 244-7325', '(828) 866-0696', '(263) 415-3893', \n",
        "                     '(203) 606-9463', '(296) 415-9944', '(419) 734-4188', \n",
        "                     '(618) 490-4228', '(682) 595-3278', '(938) 300-8890', \n",
        "                     '(264) 372-7298', '(768) 956-8497', '(737) 805-2326', \n",
        "                     '(788) 717-6858', '(228) 976-9699', '(896) 781-5087',\n",
        "                     '(374) 361-3844', '(921) 948-2244', '(807) 554-4076', \n",
        "                     '(822) 640-8496', '(227) 389-3685', '(429) 264-7427', \n",
        "                     '(397) 845-8267']"
      ],
      "metadata": {
        "id": "cUl6MPBgLKgu"
      },
      "execution_count": 16,
      "outputs": []
    },
    {
      "cell_type": "markdown",
      "source": [
        "Você seria capaz de criar uma lista dos alunos que ainda não entraram no grupo para que sejam contatados individualmente?"
      ],
      "metadata": {
        "id": "vo0jcyOfLNzW"
      }
    },
    {
      "cell_type": "code",
      "source": [
        "from pprint import pprint\n",
        "alunos = set(telefones_alunos)\n",
        "alunos_grupo = set(entraram_no_grupo)\n",
        "alunos_fora_grupo = list(alunos.difference(alunos_grupo))\n",
        "pprint(alunos_fora_grupo)"
      ],
      "metadata": {
        "colab": {
          "base_uri": "https://localhost:8080/"
        },
        "id": "CL_OjoacLRlN",
        "outputId": "8f6a8d00-c07b-4282-e87f-15c848f0a0c2"
      },
      "execution_count": 17,
      "outputs": [
        {
          "output_type": "stream",
          "name": "stdout",
          "text": [
            "['(641) 367-5279',\n",
            " '(797) 649-3653',\n",
            " '(403) 343-7705',\n",
            " '(941) 225-3869',\n",
            " '(300) 303-5462',\n",
            " '(757) 450-9985',\n",
            " '(856) 338-7094',\n",
            " '(897) 932-2512',\n",
            " '(491) 666-5367',\n",
            " '(873) 810-8267',\n",
            " '(964) 710-9625',\n",
            " '(640) 427-2597',\n",
            " '(835) 955-1498',\n",
            " '(294) 430-7720']\n"
          ]
        }
      ]
    },
    {
      "cell_type": "markdown",
      "source": [
        "8)Escreva um script Python para encontrar as 10 palavras mais longas em um arquivo."
      ],
      "metadata": {
        "id": "y5DwK2vgLrma"
      }
    },
    {
      "cell_type": "code",
      "source": [
        "from google.colab import files\n",
        "uploaded = files.upload()\n",
        "from operator import itemgetter\n",
        "with open('exerciciooito.txt', 'r') as f:\n",
        "    dic = {}    \n",
        "    conteudo = f.read().replace('.', ' ').replace('-', ' ').replace(',', ' ').replace(')', ' ')\n",
        "    for palavra in conteudo.split():\n",
        "        dic[f'{palavra}'] = len(palavra)\n",
        "        ordem = sorted(dic.items(), key=itemgetter(1), reverse=True)\n",
        "    for k, v in enumerate(ordem):\n",
        "        if k < 10:\n",
        "            print(v[0], v[1])"
      ],
      "metadata": {
        "colab": {
          "resources": {
            "http://localhost:8080/nbextensions/google.colab/files.js": {
              "data": "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",
              "ok": true,
              "headers": [
                [
                  "content-type",
                  "application/javascript"
                ]
              ],
              "status": 200,
              "status_text": ""
            }
          },
          "base_uri": "https://localhost:8080/",
          "height": 247
        },
        "id": "SMaNyoA9Lz63",
        "outputId": "1f43e5a1-8804-4eba-b1f6-1f43330a461e"
      },
      "execution_count": 19,
      "outputs": [
        {
          "output_type": "display_data",
          "data": {
            "text/plain": [
              "<IPython.core.display.HTML object>"
            ],
            "text/html": [
              "\n",
              "     <input type=\"file\" id=\"files-8834a87f-777f-4222-b017-5a1ea98d7ae8\" name=\"files[]\" multiple disabled\n",
              "        style=\"border:none\" />\n",
              "     <output id=\"result-8834a87f-777f-4222-b017-5a1ea98d7ae8\">\n",
              "      Upload widget is only available when the cell has been executed in the\n",
              "      current browser session. Please rerun this cell to enable.\n",
              "      </output>\n",
              "      <script src=\"/nbextensions/google.colab/files.js\"></script> "
            ]
          },
          "metadata": {}
        },
        {
          "output_type": "stream",
          "name": "stdout",
          "text": [
            "Saving exerciciooito.txt to exerciciooito.txt\n",
            "eitaquepalavracumpridaemenorqueinconsticionalissimamente 56\n",
            "inconstitucionalissimamente 27\n",
            "criativididade 14\n",
            "leituras 8\n",
            "tabajara 8\n",
            "arquivo 7\n",
            "acabou 6\n",
            "não 3\n",
            "sqn 3\n",
            "a 1\n"
          ]
        }
      ]
    },
    {
      "cell_type": "markdown",
      "source": [
        "9) Escreva uma função que retorne a soma dos múltiplos de 3 e 5 entre 0 e um número limite (parâmetro). Por exemplo, se o limite for 20, ele retornará a soma de 3, 5, 6, 9, 10, 12, 15, 18, 20."
      ],
      "metadata": {
        "id": "oZIsAZUFO16p"
      }
    },
    {
      "cell_type": "code",
      "source": [
        "def soma_multiplos(limite):\n",
        "  lista = [num for num in range(1, limite + 1) if num % 3 == 0 or num % 5 == 0]\n",
        "  soma = sum(lista)\n",
        "  print(soma)"
      ],
      "metadata": {
        "id": "rOpGl4AdO9w2"
      },
      "execution_count": 25,
      "outputs": []
    },
    {
      "cell_type": "code",
      "source": [
        "# Limitando a 20\n",
        "soma_multiplos(20)"
      ],
      "metadata": {
        "colab": {
          "base_uri": "https://localhost:8080/"
        },
        "id": "WWlX7yi4PDkG",
        "outputId": "cc4af083-6033-40ca-ee3f-406dca3dc96e"
      },
      "execution_count": 26,
      "outputs": [
        {
          "output_type": "stream",
          "name": "stdout",
          "text": [
            "98\n"
          ]
        }
      ]
    },
    {
      "cell_type": "markdown",
      "source": [
        "10) Dada uma lista, divida-a em 3 partes iguais e reverta cada lista.\n",
        "\n",
        "Exemplo:\n",
        "\n",
        "sampleList = [11, 45, 8, 23, 14, 12, 78, 45, 89]"
      ],
      "metadata": {
        "id": "HvLED68WPTWf"
      }
    },
    {
      "cell_type": "markdown",
      "source": [
        "Parte 1 [8, 45, 11]\n",
        "\n",
        "Parte 2 [12, 14, 23]\n",
        "\n",
        "Parte 3 [89, 45, 78]"
      ],
      "metadata": {
        "id": "tzN04n0MPeh_"
      }
    },
    {
      "cell_type": "code",
      "source": [
        "listaexemplo = [11, 45, 8, 23, 14, 12, 78, 45, 89]\n",
        "l1 = []\n",
        "l2 = []\n",
        "l3 = []\n",
        "qtde = len(listaexemplo) / 3\n",
        "if qtde.is_integer():\n",
        "  for elem in listaexemplo:\n",
        "      if len(l1) < qtde:\n",
        "          l1.append(elem)\n",
        "          parte_1 = reversed(l1)\n",
        "      elif len(l2) < qtde:\n",
        "          l2.append(elem)\n",
        "          parte_2 = reversed(l2)\n",
        "      else:\n",
        "          if len(l3) < qtde:\n",
        "              l3.append(elem)\n",
        "              parte_3 = reversed(l3)\n",
        "  print(f'Parte 1: {list(parte_1)}'\n",
        "        f'\\nParte 2: {list(parte_2)}'\n",
        "        f'\\nParte 3: {list(parte_3)}')\n",
        "else:\n",
        "  print('A lista não pode ser dividida em 3 partes iguais!')"
      ],
      "metadata": {
        "colab": {
          "base_uri": "https://localhost:8080/"
        },
        "id": "aNazDW85Pfeu",
        "outputId": "c5d6777b-ef7f-4b82-a358-14d532fe29c1"
      },
      "execution_count": 27,
      "outputs": [
        {
          "output_type": "stream",
          "name": "stdout",
          "text": [
            "Parte 1: [8, 45, 11]\n",
            "Parte 2: [12, 14, 23]\n",
            "Parte 3: [89, 45, 78]\n"
          ]
        }
      ]
    },
    {
      "cell_type": "markdown",
      "source": [
        "11) Dados uma sequência com n números inteiros, determinar quantos números da sequência são pares e quantos são ímpares. Por exemplo, para a sequência\n",
        "\n",
        "6   2   7  -5   8  -4\n",
        "\n",
        "a sua função deve retornar o número 4 para o número de pares e 2 para o de ímpares. A saída deve ser um tupla contendo primeiramente o número de pares e em seguida o número de ímpares. Para o exemplo anterior, a saída seria (4, 2)."
      ],
      "metadata": {
        "id": "nxMzu7KdPukK"
      }
    },
    {
      "cell_type": "code",
      "source": [
        "def contar_pares_impares(entrada):\n",
        "    par = impar = 0\n",
        "    lista = []\n",
        "    for num in entrada:\n",
        "      if num % 2 == 0:\n",
        "        par += 1\n",
        "      else:\n",
        "        impar += 1\n",
        "    lista.append(par)\n",
        "    lista.append(impar)\n",
        "    return tuple(lista)"
      ],
      "metadata": {
        "id": "0r_XseS8P0wj"
      },
      "execution_count": 28,
      "outputs": []
    },
    {
      "cell_type": "code",
      "source": [
        "# Testando algumas entradas\n",
        "msg_erro = \"Saída da função para a entrada {} deveria ser {}\"\n",
        "\n",
        "entrada = [6, 2, 7, -5, 8, -4]\n",
        "saida_esperada = (4, 2)\n",
        "assert contar_pares_impares(entrada)==saida_esperada, msg_erro.format(entrada, saida_esperada)\n",
        "\n",
        "entrada = [-3, 2, 7, -5, 8, -4]\n",
        "saida_esperada = (3, 3)\n",
        "assert contar_pares_impares(entrada)==saida_esperada, msg_erro.format(entrada, saida_esperada)\n",
        "\n",
        "\n",
        "# Se nenhuma mensagem for impressa abaixo, significa que a função está implementada corretamente"
      ],
      "metadata": {
        "id": "j2J-8QB1P_IT"
      },
      "execution_count": 31,
      "outputs": []
    },
    {
      "cell_type": "markdown",
      "source": [
        "12) creva uma função em Python para verificar a validade de uma senha.\n",
        "\n",
        "Validação:\n",
        "\n",
        "Pelo menos 1 letra entre [a-z] e 1 letra entre [A-Z].\n",
        "Pelo menos 1 número entre [0-9].\n",
        "Pelo menos 1 caractere de [$ # @].\n",
        "Comprimento mínimo de 6 caracteres.\n",
        "Comprimento máximo de 16 caracteres.\n",
        "Entradas: \"12345678\", \"J3sus0\", \"#Te5t300\", \"J*90j12374\", \"Michheeul\", \"Monk3y6\"\n",
        "\n",
        "A saída deve ser a senha e um texto indicando se a senha é válida ou inválida:\n",
        "\n",
        "\"1234\" - Senha inválida\n",
        "\"Qw#1234\" - Senha válida"
      ],
      "metadata": {
        "id": "TUAn1ZLVQNmq"
      }
    },
    {
      "cell_type": "code",
      "source": [
        "lista_senhas = ['12345','I2123avad','$wTt1999','am@R2','1234','NãOÉminha2121']"
      ],
      "metadata": {
        "id": "1mSHob3yQWiT"
      },
      "execution_count": 32,
      "outputs": []
    },
    {
      "cell_type": "code",
      "source": [
        "import re\n",
        "def valida_senhas(password):\n",
        "    regex = re.compile(r'^(?=.*[a-z])(?=.*[A-Z])(?=.*[0-9])(?=.*[$#@]).{6,16}$',\n",
        "                       flags=re.M)\n",
        "    resultado = re.findall(regex, password)\n",
        "    if resultado:\n",
        "        print(f'\"{password}\" - Senha válida')\n",
        "    else:\n",
        "        print(f'\"{password}\" - Senha inválida')\n",
        "\n",
        "\n",
        "for senha in lista_senhas:\n",
        "    valida_senhas(senha)"
      ],
      "metadata": {
        "colab": {
          "base_uri": "https://localhost:8080/"
        },
        "id": "5dB5hoOkQv52",
        "outputId": "e71bedc7-662d-4098-e6ae-47aa3c1cbf75"
      },
      "execution_count": 33,
      "outputs": [
        {
          "output_type": "stream",
          "name": "stdout",
          "text": [
            "\"12345\" - Senha inválida\n",
            "\"I2123avad\" - Senha inválida\n",
            "\"$wTt1999\" - Senha válida\n",
            "\"am@R2\" - Senha inválida\n",
            "\"1234\" - Senha inválida\n",
            "\"NãOÉminha2121\" - Senha inválida\n"
          ]
        }
      ]
    }
  ]
}