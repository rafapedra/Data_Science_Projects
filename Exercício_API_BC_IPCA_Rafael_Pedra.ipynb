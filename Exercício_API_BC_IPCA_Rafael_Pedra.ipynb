{
  "nbformat": 4,
  "nbformat_minor": 0,
  "metadata": {
    "colab": {
      "provenance": [],
      "collapsed_sections": [],
      "authorship_tag": "ABX9TyPRu+zASjoFlSO1pPLbqZAz",
      "include_colab_link": true
    },
    "kernelspec": {
      "name": "python3",
      "display_name": "Python 3"
    },
    "language_info": {
      "name": "python"
    }
  },
  "cells": [
    {
      "cell_type": "markdown",
      "metadata": {
        "id": "view-in-github",
        "colab_type": "text"
      },
      "source": [
        "<a href=\"https://colab.research.google.com/github/rafapedra/Data_Science_Projects/blob/master/Exerc%C3%ADcio_API_BC_IPCA_Rafael_Pedra.ipynb\" target=\"_parent\"><img src=\"https://colab.research.google.com/assets/colab-badge.svg\" alt=\"Open In Colab\"/></a>"
      ]
    },
    {
      "cell_type": "markdown",
      "source": [
        "O exercício a ser desenvolvido para a presente unidade consiste em conectar-se a uma API. O Banco Central do Brasil disponibiliza dados a respeito de diversos indicadores econômicos do país. Sua tarefa será encontrar a série histórica relativa à inflação (IPCA) na plataforma de dados abertos do BC, importá-la e transformá-la em um DataFrame do Pandas.\n",
        "\n",
        "\n"
      ],
      "metadata": {
        "id": "2-0Fvsm1FTGo"
      }
    },
    {
      "cell_type": "markdown",
      "source": [
        "**Importação bibliotecas**"
      ],
      "metadata": {
        "id": "UQZnrbZxEk4O"
      }
    },
    {
      "cell_type": "code",
      "source": [
        "# biblioteca de importação\n",
        "import requests\n",
        "# biblioteca de leitura de json\n",
        "import json\n",
        "# Pandas para criar o DF\n",
        "import pandas as pd"
      ],
      "metadata": {
        "id": "_wpAYPTcEpJ6"
      },
      "execution_count": 2,
      "outputs": []
    },
    {
      "cell_type": "markdown",
      "source": [
        "**Coletando dados**"
      ],
      "metadata": {
        "id": "2H-YYJRTEx2c"
      }
    },
    {
      "cell_type": "code",
      "source": [
        "#Armazenando url do json em uma variável temporária\n",
        "ipca = 'http://api.bcb.gov.br/dados/serie/bcdata.sgs.10844/dados?formato=json'\n",
        "\n",
        "#extraindo o conteúdo do json\n",
        "conteudo = requests.get(ipca).content\n",
        "\n",
        "#criando um dicionário com o conteúdo do json\n",
        "ipca_dict = json.loads(conteudo)\n",
        "\n",
        "print(ipca_dict)"
      ],
      "metadata": {
        "colab": {
          "base_uri": "https://localhost:8080/"
        },
        "id": "K3LEuz83E1EI",
        "outputId": "649aa465-d5c4-4a95-b48f-68d32642e8e9"
      },
      "execution_count": 3,
      "outputs": [
        {
          "output_type": "stream",
          "name": "stdout",
          "text": [
            "[{'data': '01/01/1992', 'valor': '25.84'}, {'data': '01/02/1992', 'valor': '22.17'}, {'data': '01/03/1992', 'valor': '20.74'}, {'data': '01/04/1992', 'valor': '20.14'}, {'data': '01/05/1992', 'valor': '26.93'}, {'data': '01/06/1992', 'valor': '19.07'}, {'data': '01/07/1992', 'valor': '22.00'}, {'data': '01/08/1992', 'valor': '18.58'}, {'data': '01/09/1992', 'valor': '25.03'}, {'data': '01/10/1992', 'valor': '22.65'}, {'data': '01/11/1992', 'valor': '20.42'}, {'data': '01/12/1992', 'valor': '22.43'}, {'data': '01/01/1993', 'valor': '31.20'}, {'data': '01/02/1993', 'valor': '23.54'}, {'data': '01/03/1993', 'valor': '28.86'}, {'data': '01/04/1993', 'valor': '25.00'}, {'data': '01/05/1993', 'valor': '28.41'}, {'data': '01/06/1993', 'valor': '29.11'}, {'data': '01/07/1993', 'valor': '28.78'}, {'data': '01/08/1993', 'valor': '33.50'}, {'data': '01/09/1993', 'valor': '36.36'}, {'data': '01/10/1993', 'valor': '32.08'}, {'data': '01/11/1993', 'valor': '33.01'}, {'data': '01/12/1993', 'valor': '33.85'}, {'data': '01/01/1994', 'valor': '42.08'}, {'data': '01/02/1994', 'valor': '41.38'}, {'data': '01/03/1994', 'valor': '43.95'}, {'data': '01/04/1994', 'valor': '41.83'}, {'data': '01/05/1994', 'valor': '45.42'}, {'data': '01/06/1994', 'valor': '43.79'}, {'data': '01/07/1994', 'valor': '4.46'}, {'data': '01/08/1994', 'valor': '5.63'}, {'data': '01/09/1994', 'valor': '4.95'}, {'data': '01/10/1994', 'valor': '3.58'}, {'data': '01/11/1994', 'valor': '4.01'}, {'data': '01/12/1994', 'valor': '3.56'}, {'data': '01/01/1995', 'valor': '5.18'}, {'data': '01/02/1995', 'valor': '3.09'}, {'data': '01/03/1995', 'valor': '3.83'}, {'data': '01/04/1995', 'valor': '4.29'}, {'data': '01/05/1995', 'valor': '6.91'}, {'data': '01/06/1995', 'valor': '4.38'}, {'data': '01/07/1995', 'valor': '3.90'}, {'data': '01/08/1995', 'valor': '3.31'}, {'data': '01/09/1995', 'valor': '2.85'}, {'data': '01/10/1995', 'valor': '2.47'}, {'data': '01/11/1995', 'valor': '2.71'}, {'data': '01/12/1995', 'valor': '2.28'}, {'data': '01/01/1996', 'valor': '2.20'}, {'data': '01/02/1996', 'valor': '2.32'}, {'data': '01/03/1996', 'valor': '1.63'}, {'data': '01/04/1996', 'valor': '1.40'}, {'data': '01/05/1996', 'valor': '2.21'}, {'data': '01/06/1996', 'valor': '1.54'}, {'data': '01/07/1996', 'valor': '1.41'}, {'data': '01/08/1996', 'valor': '1.43'}, {'data': '01/09/1996', 'valor': '1.02'}, {'data': '01/10/1996', 'valor': '0.62'}, {'data': '01/11/1996', 'valor': '0.83'}, {'data': '01/12/1996', 'valor': '0.73'}, {'data': '01/01/1997', 'valor': '1.02'}, {'data': '01/02/1997', 'valor': '0.99'}, {'data': '01/03/1997', 'valor': '0.45'}, {'data': '01/04/1997', 'valor': '0.73'}, {'data': '01/05/1997', 'valor': '0.87'}, {'data': '01/06/1997', 'valor': '0.59'}, {'data': '01/07/1997', 'valor': '0.57'}, {'data': '01/08/1997', 'valor': '0.39'}, {'data': '01/09/1997', 'valor': '0.12'}, {'data': '01/10/1997', 'valor': '0.19'}, {'data': '01/11/1997', 'valor': '0.05'}, {'data': '01/12/1997', 'valor': '0.08'}, {'data': '01/01/1998', 'valor': '0.40'}, {'data': '01/02/1998', 'valor': '0.52'}, {'data': '01/03/1998', 'valor': '0.16'}, {'data': '01/04/1998', 'valor': '0.03'}, {'data': '01/05/1998', 'valor': '0.56'}, {'data': '01/06/1998', 'valor': '-0.18'}, {'data': '01/07/1998', 'valor': '0.26'}, {'data': '01/08/1998', 'valor': '0.00'}, {'data': '01/09/1998', 'valor': '-0.14'}, {'data': '01/10/1998', 'valor': '-0.10'}, {'data': '01/11/1998', 'valor': '0.00'}, {'data': '01/12/1998', 'valor': '0.04'}, {'data': '01/01/1999', 'valor': '0.49'}, {'data': '01/02/1999', 'valor': '-0.36'}, {'data': '01/03/1999', 'valor': '0.26'}, {'data': '01/04/1999', 'valor': '0.10'}, {'data': '01/05/1999', 'valor': '0.22'}, {'data': '01/06/1999', 'valor': '0.21'}, {'data': '01/07/1999', 'valor': '0.04'}, {'data': '01/08/1999', 'valor': '0.10'}, {'data': '01/09/1999', 'valor': '-0.10'}, {'data': '01/10/1999', 'valor': '0.01'}, {'data': '01/11/1999', 'valor': '0.09'}, {'data': '01/12/1999', 'valor': '0.28'}, {'data': '01/01/2000', 'valor': '0.69'}, {'data': '01/02/2000', 'valor': '0.38'}, {'data': '01/03/2000', 'valor': '-0.11'}, {'data': '01/04/2000', 'valor': '1.47'}, {'data': '01/05/2000', 'valor': '-0.07'}, {'data': '01/06/2000', 'valor': '0.00'}, {'data': '01/07/2000', 'valor': '0.04'}, {'data': '01/08/2000', 'valor': '0.24'}, {'data': '01/09/2000', 'valor': '0.13'}, {'data': '01/10/2000', 'valor': '0.10'}, {'data': '01/11/2000', 'valor': '0.08'}, {'data': '01/12/2000', 'valor': '0.14'}, {'data': '01/01/2001', 'valor': '0.50'}, {'data': '01/02/2001', 'valor': '0.73'}, {'data': '01/03/2001', 'valor': '0.06'}, {'data': '01/04/2001', 'valor': '0.62'}, {'data': '01/05/2001', 'valor': '0.38'}, {'data': '01/06/2001', 'valor': '0.30'}, {'data': '01/07/2001', 'valor': '0.77'}, {'data': '01/08/2001', 'valor': '0.56'}, {'data': '01/09/2001', 'valor': '0.20'}, {'data': '01/10/2001', 'valor': '0.34'}, {'data': '01/11/2001', 'valor': '0.08'}, {'data': '01/12/2001', 'valor': '0.22'}, {'data': '01/01/2002', 'valor': '0.19'}, {'data': '01/02/2002', 'valor': '1.22'}, {'data': '01/03/2002', 'valor': '0.15'}, {'data': '01/04/2002', 'valor': '0.50'}, {'data': '01/05/2002', 'valor': '0.44'}, {'data': '01/06/2002', 'valor': '0.15'}, {'data': '01/07/2002', 'valor': '0.69'}, {'data': '01/08/2002', 'valor': '0.40'}, {'data': '01/09/2002', 'valor': '0.43'}, {'data': '01/10/2002', 'valor': '0.17'}, {'data': '01/11/2002', 'valor': '0.40'}, {'data': '01/12/2002', 'valor': '0.67'}, {'data': '01/01/2003', 'valor': '1.03'}, {'data': '01/02/2003', 'valor': '1.69'}, {'data': '01/03/2003', 'valor': '0.49'}, {'data': '01/04/2003', 'valor': '0.29'}, {'data': '01/05/2003', 'valor': '0.30'}, {'data': '01/06/2003', 'valor': '0.48'}, {'data': '01/07/2003', 'valor': '0.52'}, {'data': '01/08/2003', 'valor': '0.61'}, {'data': '01/09/2003', 'valor': '0.41'}, {'data': '01/10/2003', 'valor': '0.42'}, {'data': '01/11/2003', 'valor': '0.39'}, {'data': '01/12/2003', 'valor': '0.46'}, {'data': '01/01/2004', 'valor': '0.62'}, {'data': '01/02/2004', 'valor': '1.90'}, {'data': '01/03/2004', 'valor': '0.49'}, {'data': '01/04/2004', 'valor': '0.30'}, {'data': '01/05/2004', 'valor': '0.30'}, {'data': '01/06/2004', 'valor': '0.26'}, {'data': '01/07/2004', 'valor': '0.49'}, {'data': '01/08/2004', 'valor': '0.59'}, {'data': '01/09/2004', 'valor': '0.23'}, {'data': '01/10/2004', 'valor': '0.33'}, {'data': '01/11/2004', 'valor': '0.37'}, {'data': '01/12/2004', 'valor': '0.60'}, {'data': '01/01/2005', 'valor': '0.46'}, {'data': '01/02/2005', 'valor': '1.82'}, {'data': '01/03/2005', 'valor': '0.51'}, {'data': '01/04/2005', 'valor': '0.35'}, {'data': '01/05/2005', 'valor': '0.28'}, {'data': '01/06/2005', 'valor': '0.50'}, {'data': '01/07/2005', 'valor': '0.59'}, {'data': '01/08/2005', 'valor': '0.44'}, {'data': '01/09/2005', 'valor': '0.44'}, {'data': '01/10/2005', 'valor': '0.56'}, {'data': '01/11/2005', 'valor': '0.41'}, {'data': '01/12/2005', 'valor': '0.22'}, {'data': '01/01/2006', 'valor': '0.68'}, {'data': '01/02/2006', 'valor': '1.54'}, {'data': '01/03/2006', 'valor': '0.40'}, {'data': '01/04/2006', 'valor': '0.33'}, {'data': '01/05/2006', 'valor': '0.33'}, {'data': '01/06/2006', 'valor': '0.17'}, {'data': '01/07/2006', 'valor': '0.36'}, {'data': '01/08/2006', 'valor': '0.36'}, {'data': '01/09/2006', 'valor': '0.38'}, {'data': '01/10/2006', 'valor': '0.43'}, {'data': '01/11/2006', 'valor': '0.19'}, {'data': '01/12/2006', 'valor': '0.19'}, {'data': '01/01/2007', 'valor': '0.48'}, {'data': '01/02/2007', 'valor': '1.39'}, {'data': '01/03/2007', 'valor': '0.38'}, {'data': '01/04/2007', 'valor': '0.18'}, {'data': '01/05/2007', 'valor': '0.26'}, {'data': '01/06/2007', 'valor': '0.23'}, {'data': '01/07/2007', 'valor': '0.27'}, {'data': '01/08/2007', 'valor': '0.48'}, {'data': '01/09/2007', 'valor': '0.20'}, {'data': '01/10/2007', 'valor': '0.34'}, {'data': '01/11/2007', 'valor': '0.38'}, {'data': '01/12/2007', 'valor': '0.47'}, {'data': '01/01/2008', 'valor': '0.43'}, {'data': '01/02/2008', 'valor': '1.45'}, {'data': '01/03/2008', 'valor': '0.30'}, {'data': '01/04/2008', 'valor': '0.32'}, {'data': '01/05/2008', 'valor': '0.56'}, {'data': '01/06/2008', 'valor': '0.40'}, {'data': '01/07/2008', 'valor': '0.34'}, {'data': '01/08/2008', 'valor': '0.56'}, {'data': '01/09/2008', 'valor': '0.55'}, {'data': '01/10/2008', 'valor': '0.42'}, {'data': '01/11/2008', 'valor': '0.49'}, {'data': '01/12/2008', 'valor': '0.39'}, {'data': '01/01/2009', 'valor': '0.65'}, {'data': '01/02/2009', 'valor': '1.89'}, {'data': '01/03/2009', 'valor': '0.06'}, {'data': '01/04/2009', 'valor': '0.67'}, {'data': '01/05/2009', 'valor': '0.59'}, {'data': '01/06/2009', 'valor': '0.38'}, {'data': '01/07/2009', 'valor': '0.27'}, {'data': '01/08/2009', 'valor': '0.47'}, {'data': '01/09/2009', 'valor': '0.36'}, {'data': '01/10/2009', 'valor': '0.22'}, {'data': '01/11/2009', 'valor': '0.30'}, {'data': '01/12/2009', 'valor': '0.34'}, {'data': '01/01/2010', 'valor': '0.61'}, {'data': '01/02/2010', 'valor': '1.81'}, {'data': '01/03/2010', 'valor': '0.72'}, {'data': '01/04/2010', 'valor': '0.50'}, {'data': '01/05/2010', 'valor': '0.62'}, {'data': '01/06/2010', 'valor': '0.41'}, {'data': '01/07/2010', 'valor': '0.35'}, {'data': '01/08/2010', 'valor': '0.41'}, {'data': '01/09/2010', 'valor': '0.41'}, {'data': '01/10/2010', 'valor': '0.49'}, {'data': '01/11/2010', 'valor': '0.46'}, {'data': '01/12/2010', 'valor': '0.58'}, {'data': '01/01/2011', 'valor': '0.87'}, {'data': '01/02/2011', 'valor': '2.28'}, {'data': '01/03/2011', 'valor': '0.85'}, {'data': '01/04/2011', 'valor': '0.54'}, {'data': '01/05/2011', 'valor': '0.59'}, {'data': '01/06/2011', 'valor': '0.60'}, {'data': '01/07/2011', 'valor': '0.42'}, {'data': '01/08/2011', 'valor': '0.50'}, {'data': '01/09/2011', 'valor': '0.51'}, {'data': '01/10/2011', 'valor': '0.41'}, {'data': '01/11/2011', 'valor': '0.59'}, {'data': '01/12/2011', 'valor': '0.51'}, {'data': '01/01/2012', 'valor': '1.05'}, {'data': '01/02/2012', 'valor': '1.25'}, {'data': '01/03/2012', 'valor': '0.52'}, {'data': '01/04/2012', 'valor': '0.77'}, {'data': '01/05/2012', 'valor': '0.21'}, {'data': '01/06/2012', 'valor': '0.52'}, {'data': '01/07/2012', 'valor': '0.79'}, {'data': '01/08/2012', 'valor': '0.49'}, {'data': '01/09/2012', 'valor': '0.51'}, {'data': '01/10/2012', 'valor': '0.51'}, {'data': '01/11/2012', 'valor': '0.82'}, {'data': '01/12/2012', 'valor': '0.98'}, {'data': '01/01/2013', 'valor': '0.92'}, {'data': '01/02/2013', 'valor': '1.30'}, {'data': '01/03/2013', 'valor': '0.26'}, {'data': '01/04/2013', 'valor': '0.54'}, {'data': '01/05/2013', 'valor': '0.56'}, {'data': '01/06/2013', 'valor': '0.64'}, {'data': '01/07/2013', 'valor': '0.64'}, {'data': '01/08/2013', 'valor': '0.60'}, {'data': '01/09/2013', 'valor': '0.63'}, {'data': '01/10/2013', 'valor': '0.52'}, {'data': '01/11/2013', 'valor': '0.65'}, {'data': '01/12/2013', 'valor': '1.16'}, {'data': '01/01/2014', 'valor': '0.47'}, {'data': '01/02/2014', 'valor': '1.24'}, {'data': '01/03/2014', 'valor': '1.09'}, {'data': '01/04/2014', 'valor': '0.44'}, {'data': '01/05/2014', 'valor': '0.30'}, {'data': '01/06/2014', 'valor': '1.10'}, {'data': '01/07/2014', 'valor': '-0.05'}, {'data': '01/08/2014', 'valor': '0.59'}, {'data': '01/09/2014', 'valor': '0.77'}, {'data': '01/10/2014', 'valor': '0.43'}, {'data': '01/11/2014', 'valor': '0.46'}, {'data': '01/12/2014', 'valor': '1.20'}, {'data': '01/01/2015', 'valor': '0.87'}, {'data': '01/02/2015', 'valor': '1.07'}, {'data': '01/03/2015', 'valor': '0.58'}, {'data': '01/04/2015', 'valor': '0.72'}, {'data': '01/05/2015', 'valor': '0.20'}, {'data': '01/06/2015', 'valor': '0.79'}, {'data': '01/07/2015', 'valor': '0.54'}, {'data': '01/08/2015', 'valor': '0.32'}, {'data': '01/09/2015', 'valor': '0.67'}, {'data': '01/10/2015', 'valor': '0.62'}, {'data': '01/11/2015', 'valor': '0.46'}, {'data': '01/12/2015', 'valor': '0.97'}, {'data': '01/01/2016', 'valor': '0.66'}, {'data': '01/02/2016', 'valor': '1.05'}, {'data': '01/03/2016', 'valor': '0.24'}, {'data': '01/04/2016', 'valor': '0.58'}, {'data': '01/05/2016', 'valor': '0.37'}, {'data': '01/06/2016', 'valor': '0.33'}, {'data': '01/07/2016', 'valor': '0.62'}, {'data': '01/08/2016', 'valor': '0.59'}, {'data': '01/09/2016', 'valor': '0.33'}, {'data': '01/10/2016', 'valor': '0.47'}, {'data': '01/11/2016', 'valor': '0.41'}, {'data': '01/12/2016', 'valor': '0.65'}, {'data': '01/01/2017', 'valor': '0.36'}, {'data': '01/02/2017', 'valor': '0.84'}, {'data': '01/03/2017', 'valor': '0.34'}, {'data': '01/04/2017', 'valor': '0.49'}, {'data': '01/05/2017', 'valor': '0.05'}, {'data': '01/06/2017', 'valor': '0.43'}, {'data': '01/07/2017', 'valor': '0.33'}, {'data': '01/08/2017', 'valor': '0.01'}, {'data': '01/09/2017', 'valor': '0.50'}, {'data': '01/10/2017', 'valor': '0.37'}, {'data': '01/11/2017', 'valor': '0.12'}, {'data': '01/12/2017', 'valor': '0.60'}, {'data': '01/01/2018', 'valor': '0.16'}, {'data': '01/02/2018', 'valor': '0.74'}, {'data': '01/03/2018', 'valor': '0.08'}, {'data': '01/04/2018', 'valor': '0.03'}, {'data': '01/05/2018', 'valor': '-0.09'}, {'data': '01/06/2018', 'valor': '0.26'}, {'data': '01/07/2018', 'valor': '0.68'}, {'data': '01/08/2018', 'valor': '-0.16'}, {'data': '01/09/2018', 'valor': '0.40'}, {'data': '01/10/2018', 'valor': '0.17'}, {'data': '01/11/2018', 'valor': '0.41'}, {'data': '01/12/2018', 'valor': '0.62'}, {'data': '01/01/2019', 'valor': '0.51'}, {'data': '01/02/2019', 'valor': '0.39'}, {'data': '01/03/2019', 'valor': '0.33'}, {'data': '01/04/2019', 'valor': '0.32'}, {'data': '01/05/2019', 'valor': '-0.11'}, {'data': '01/06/2019', 'valor': '0.34'}, {'data': '01/07/2019', 'valor': '0.46'}, {'data': '01/08/2019', 'valor': '0.07'}, {'data': '01/09/2019', 'valor': '0.04'}, {'data': '01/10/2019', 'valor': '0.19'}, {'data': '01/11/2019', 'valor': '0.20'}, {'data': '01/12/2019', 'valor': '0.73'}, {'data': '01/01/2020', 'valor': '0.28'}, {'data': '01/02/2020', 'valor': '0.68'}, {'data': '01/03/2020', 'valor': '-0.14'}, {'data': '01/04/2020', 'valor': '0.25'}, {'data': '01/05/2020', 'valor': '-0.45'}, {'data': '01/06/2020', 'valor': '-0.26'}, {'data': '01/07/2020', 'valor': '-0.10'}, {'data': '01/08/2020', 'valor': '-0.47'}, {'data': '01/09/2020', 'valor': '0.17'}, {'data': '01/10/2020', 'valor': '0.55'}, {'data': '01/11/2020', 'valor': '0.39'}, {'data': '01/12/2020', 'valor': '0.83'}, {'data': '01/01/2021', 'valor': '0.07'}, {'data': '01/02/2021', 'valor': '0.55'}, {'data': '01/03/2021', 'valor': '0.12'}, {'data': '01/04/2021', 'valor': '0.05'}, {'data': '01/05/2021', 'valor': '-0.15'}, {'data': '01/06/2021', 'valor': '0.23'}, {'data': '01/07/2021', 'valor': '0.67'}, {'data': '01/08/2021', 'valor': '0.39'}, {'data': '01/09/2021', 'valor': '0.63'}, {'data': '01/10/2021', 'valor': '1.04'}, {'data': '01/11/2021', 'valor': '0.27'}, {'data': '01/12/2021', 'valor': '0.79'}, {'data': '01/01/2022', 'valor': '0.39'}, {'data': '01/02/2022', 'valor': '1.36'}, {'data': '01/03/2022', 'valor': '0.45'}, {'data': '01/04/2022', 'valor': '0.66'}, {'data': '01/05/2022', 'valor': '0.85'}, {'data': '01/06/2022', 'valor': '0.90'}, {'data': '01/07/2022', 'valor': '0.80'}]\n"
          ]
        }
      ]
    },
    {
      "cell_type": "markdown",
      "source": [
        "**Transformando dados**"
      ],
      "metadata": {
        "id": "cFKCJ3B7FG48"
      }
    },
    {
      "cell_type": "code",
      "source": [
        "# transformando o dicionário em DF\n",
        "df = pd.DataFrame(ipca_dict)\n",
        "print(df)"
      ],
      "metadata": {
        "colab": {
          "base_uri": "https://localhost:8080/"
        },
        "id": "K1gT3q79FKe4",
        "outputId": "a05dea91-4dff-45cc-959b-2332c882ae10"
      },
      "execution_count": 4,
      "outputs": [
        {
          "output_type": "stream",
          "name": "stdout",
          "text": [
            "           data  valor\n",
            "0    01/01/1992  25.84\n",
            "1    01/02/1992  22.17\n",
            "2    01/03/1992  20.74\n",
            "3    01/04/1992  20.14\n",
            "4    01/05/1992  26.93\n",
            "..          ...    ...\n",
            "362  01/03/2022   0.45\n",
            "363  01/04/2022   0.66\n",
            "364  01/05/2022   0.85\n",
            "365  01/06/2022   0.90\n",
            "366  01/07/2022   0.80\n",
            "\n",
            "[367 rows x 2 columns]\n"
          ]
        }
      ]
    }
  ]
}